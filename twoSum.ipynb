{
 "cells": [
  {
   "cell_type": "code",
   "execution_count": 13,
   "metadata": {},
   "outputs": [
    {
     "data": {
      "text/plain": [
       "[1, 4]"
      ]
     },
     "execution_count": 13,
     "metadata": {},
     "output_type": "execute_result"
    }
   ],
   "source": [
    "#the most direct way to solve the problem but it's slow\n",
    "class Solution:\n",
    "    def twoSum(self, nums, target):\n",
    "        \"\"\"\n",
    "        :type nums: List[int]\n",
    "        :type target: int\n",
    "        :rtype: List[int]\n",
    "        \"\"\"\n",
    "        for K in range(len(nums)):\n",
    "            for L in range(K+1,len(nums)):\n",
    "                if nums[K] + nums[L] == target:\n",
    "                    return [K,L]\n",
    "a = Solution\n",
    "a.twoSum(a,[0,1,2,3,4],5)"
   ]
  },
  {
   "cell_type": "code",
   "execution_count": 41,
   "metadata": {},
   "outputs": [
    {
     "name": "stdout",
     "output_type": "stream",
     "text": [
      "[0, 1]\n"
     ]
    }
   ],
   "source": [
    "#only one loop \n",
    "class Solution:\n",
    "    def twoSum(self, nums, target):\n",
    "        \"\"\"\n",
    "        :type nums: List[int]\n",
    "        :type target: int\n",
    "        :rtype: List[int]\n",
    "        \"\"\"\n",
    "        for K in range(len(nums)):\n",
    "            num2 = target - nums[K]\n",
    "            if num2 in nums[K+1::]:\n",
    "                L = nums[K+1::].index(num2) + K+1\n",
    "                return [K,L]\n",
    "if __name__ == '__main__':\n",
    "    nums = [2,3,4,5,6]\n",
    "    target = 5\n",
    "    solution = Solution()\n",
    "    print(solution.twoSum(nums,target))\n",
    "        "
   ]
  },
  {
   "cell_type": "code",
   "execution_count": 49,
   "metadata": {},
   "outputs": [
    {
     "name": "stdout",
     "output_type": "stream",
     "text": [
      "None\n"
     ]
    }
   ],
   "source": [
    "class Solution:\n",
    "    def twoSum(self, nums, target):\n",
    "        \"\"\"\n",
    "        :type nums: List[int]\n",
    "        :type target: int\n",
    "        :rtype: List[int]\n",
    "        \"\"\"\n",
    "        num_sort = nums[:]\n",
    "        num_sort.sort()\n",
    "        index_min = 0\n",
    "        index_max = len(nums)-1\n",
    "        for k in range(len(nums)):\n",
    "            if num_sort[index_min] + num_sort[index_max] == target:\n",
    "                if num_sort[index_min] != num_sort[index_max]:\n",
    "                    return [nums.index(num_sort[index_min]),nums.index(num_sort[index_max])]\n",
    "                else:\n",
    "                    a = nums.index(num_sort[index_min])\n",
    "                    nums[a] = nums[a] + 1\n",
    "                    b = nums.index(num_sort[index_max])\n",
    "                    return [a,b]\n",
    "            elif (num_sort[index_min] + num_sort[index_max]) > target:\n",
    "                index_max = index_max - 1 \n",
    "            else:\n",
    "                index_min = index_min + 1\n",
    "if __name__ == '__main__':\n",
    "    nums = [3,2,4]\n",
    "    target = 6\n",
    "    solution = Solution()\n",
    "    print(solution.twoSum(nums,target))"
   ]
  },
  {
   "cell_type": "code",
   "execution_count": 53,
   "metadata": {},
   "outputs": [
    {
     "name": "stdout",
     "output_type": "stream",
     "text": [
      "[1, 2]\n"
     ]
    }
   ],
   "source": [
    "class Solution:\n",
    "    def twoSum(self, nums, target):\n",
    "        \"\"\"\n",
    "        :type nums: List[int]\n",
    "        :type target: int\n",
    "        :rtype: List[int]\n",
    "        \"\"\"    \n",
    "        hashed = {}\n",
    "        for i in range(len(nums)):\n",
    "            if target-nums[i] in hashed: \n",
    "                return [hashed[target-nums[i]], i]   \n",
    "            hashed[nums[i]] = i\n",
    "if __name__ == '__main__':\n",
    "    nums = [3,2,4]\n",
    "    target = 6\n",
    "    solution = Solution()\n",
    "    print(solution.twoSum(nums,target))"
   ]
  }
 ],
 "metadata": {
  "kernelspec": {
   "display_name": "Python 3",
   "language": "python",
   "name": "python3"
  },
  "language_info": {
   "codemirror_mode": {
    "name": "ipython",
    "version": 3
   },
   "file_extension": ".py",
   "mimetype": "text/x-python",
   "name": "python",
   "nbconvert_exporter": "python",
   "pygments_lexer": "ipython3",
   "version": "3.6.5"
  }
 },
 "nbformat": 4,
 "nbformat_minor": 2
}
